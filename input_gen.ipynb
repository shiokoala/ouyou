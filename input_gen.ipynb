{
 "cells": [
  {
   "cell_type": "code",
   "execution_count": 2,
   "metadata": {},
   "outputs": [],
   "source": [
    "import numpy as np\n",
    "import scipy as sp\n",
    "import pandas as pd"
   ]
  },
  {
   "cell_type": "code",
   "execution_count": 3,
   "metadata": {},
   "outputs": [],
   "source": [
    "RHO=997 #kg/m^3\n",
    "G = 9.8 #m/s^2\n",
    "P_ATM = 1013 #mbar"
   ]
  },
  {
   "cell_type": "code",
   "execution_count": 4,
   "metadata": {},
   "outputs": [],
   "source": [
    "def z_to_mbar(z:float, v=0.5):\n",
    "  return (RHO*G*z+0.5*RHO*v**2)/10200*1000+P_ATM"
   ]
  },
  {
   "cell_type": "code",
   "execution_count": 5,
   "metadata": {},
   "outputs": [],
   "source": [
    "def step_func(t:float, t1=10, t2=20):\n",
    "  if t<t1: \n",
    "    return z_to_mbar(0.7)\n",
    "  elif t>=t1 and t<t2: \n",
    "    return z_to_mbar(0.2)\n",
    "  else: return z_to_mbar(0.5)"
   ]
  },
  {
   "cell_type": "code",
   "execution_count": 6,
   "metadata": {},
   "outputs": [],
   "source": [
    "def sine_func(t:float, interval:float=10):\n",
    "  p1=z_to_mbar(0.5)\n",
    "  delta_p = z_to_mbar(0.1)\n",
    "  return p1+delta_p*np.sin(2*np.pi*t/interval)"
   ]
  },
  {
   "cell_type": "code",
   "execution_count": 7,
   "metadata": {},
   "outputs": [],
   "source": [
    "def write(f,name:str):\n",
    "  arr=[]\n",
    "  for t in np.arange(0,30,0.1,):\n",
    "    arr.append(f(t))\n",
    "  pd.DataFrame(data=arr,columns=['pressure']).to_csv(f\"./{name}.csv\",index=False)\n"
   ]
  },
  {
   "cell_type": "code",
   "execution_count": 8,
   "metadata": {},
   "outputs": [],
   "source": [
    "write(sine_func,\"sine\")"
   ]
  },
  {
   "cell_type": "code",
   "execution_count": 9,
   "metadata": {},
   "outputs": [],
   "source": [
    "write(step_func,\"step\")\n"
   ]
  }
 ],
 "metadata": {
  "kernelspec": {
   "display_name": "base",
   "language": "python",
   "name": "python3"
  },
  "language_info": {
   "codemirror_mode": {
    "name": "ipython",
    "version": 3
   },
   "file_extension": ".py",
   "mimetype": "text/x-python",
   "name": "python",
   "nbconvert_exporter": "python",
   "pygments_lexer": "ipython3",
   "version": "3.9.5"
  }
 },
 "nbformat": 4,
 "nbformat_minor": 2
}
