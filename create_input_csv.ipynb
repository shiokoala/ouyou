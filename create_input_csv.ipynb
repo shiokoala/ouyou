{
 "cells": [
  {
   "cell_type": "code",
   "execution_count": 52,
   "metadata": {},
   "outputs": [],
   "source": [
    "import pandas as pd\n",
    "import numpy as np"
   ]
  },
  {
   "cell_type": "code",
   "execution_count": 53,
   "metadata": {},
   "outputs": [],
   "source": [
    "RHO=997 #kg/m^3\n",
    "G = 9.8 #m/s^2 #pho* g* h [kg/m/s^2 = N/m^2]\n",
    "P_ATM = 1013 #mbar\n",
    "\n",
    "rng = np.random.default_rng()"
   ]
  },
  {
   "cell_type": "code",
   "execution_count": 54,
   "metadata": {},
   "outputs": [],
   "source": [
    "def z_to_mbar(z:float, v=0.5):\n",
    "  return (RHO*G*z+0.5*RHO*v**2)/100+P_ATM # N/m^2 -> kgf/"
   ]
  },
  {
   "cell_type": "code",
   "execution_count": 55,
   "metadata": {},
   "outputs": [
    {
     "name": "stdout",
     "output_type": "stream",
     "text": [
      "1063.0350596343767\n",
      "19.54119999999989\n"
     ]
    }
   ],
   "source": [
    "p1 = z_to_mbar(0.5) + rng.uniform(-1,1)\n",
    "amplitude = z_to_mbar(0.2,0)-z_to_mbar(0,0)\n",
    "interval = 5\n",
    "print(p1)\n",
    "print(amplitude)"
   ]
  },
  {
   "cell_type": "code",
   "execution_count": 58,
   "metadata": {},
   "outputs": [],
   "source": [
    "def sine_func(t:float, interval:float=5, amplitude_p:float=25):\n",
    "  #y = Asin(2pi * t/T)+p1+biasP  T:interval\n",
    "  return p1+amplitude_p*np.sin(2*np.pi*t/interval) + rng.uniform(-0.5,0.5)\n",
    "\n",
    "def create_imput_df(t:np.array, interval, amplitude_p) -> pd.DataFrame:\n",
    "  time_array = t\n",
    "  data = {\"date\": t, \"a_x\": 0, \"a_y\": 0, \"a_z\": 0, \"angx\": 0, \"angy\": 0, \"angz\": 0, \"pressure\": [sine_func(t, interval, amplitude_p) for t in time_array], \"flag\": 0}\n",
    "  return pd.DataFrame(data)"
   ]
  },
  {
   "cell_type": "code",
   "execution_count": 59,
   "metadata": {},
   "outputs": [],
   "source": [
    "t = np.arange(0,30,0.1)\n",
    "input_df = create_imput_df(t, interval, amplitude)\n",
    "input_df.to_csv(f\"./input_demo_data.csv\",index=False)"
   ]
  }
 ],
 "metadata": {
  "kernelspec": {
   "display_name": "pythonset1",
   "language": "python",
   "name": "python3"
  },
  "language_info": {
   "codemirror_mode": {
    "name": "ipython",
    "version": 3
   },
   "file_extension": ".py",
   "mimetype": "text/x-python",
   "name": "python",
   "nbconvert_exporter": "python",
   "pygments_lexer": "ipython3",
   "version": "3.11.5"
  }
 },
 "nbformat": 4,
 "nbformat_minor": 2
}
